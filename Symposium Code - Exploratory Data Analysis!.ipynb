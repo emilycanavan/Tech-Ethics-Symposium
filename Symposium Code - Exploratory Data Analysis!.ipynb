{
 "cells": [
  {
   "cell_type": "code",
   "execution_count": 1,
   "id": "a09c253d",
   "metadata": {},
   "outputs": [],
   "source": [
    "import os\n",
    "os.chdir('/Users/emilycanavan/Desktop/symposium')"
   ]
  },
  {
   "cell_type": "code",
   "execution_count": 2,
   "id": "1fe03621",
   "metadata": {},
   "outputs": [],
   "source": [
    "import pandas as pd"
   ]
  },
  {
   "cell_type": "code",
   "execution_count": 3,
   "id": "09dfadd8",
   "metadata": {},
   "outputs": [],
   "source": [
    "data = pd.read_excel('pandas_simple.xlsx')"
   ]
  },
  {
   "cell_type": "code",
   "execution_count": 4,
   "id": "9ba816e3",
   "metadata": {},
   "outputs": [
    {
     "data": {
      "text/html": [
       "<div>\n",
       "<style scoped>\n",
       "    .dataframe tbody tr th:only-of-type {\n",
       "        vertical-align: middle;\n",
       "    }\n",
       "\n",
       "    .dataframe tbody tr th {\n",
       "        vertical-align: top;\n",
       "    }\n",
       "\n",
       "    .dataframe thead th {\n",
       "        text-align: right;\n",
       "    }\n",
       "</style>\n",
       "<table border=\"1\" class=\"dataframe\">\n",
       "  <thead>\n",
       "    <tr style=\"text-align: right;\">\n",
       "      <th></th>\n",
       "      <th>loan_type</th>\n",
       "      <th>loan_purpose</th>\n",
       "      <th>occupancy_type</th>\n",
       "      <th>loan_amount</th>\n",
       "      <th>action_taken</th>\n",
       "      <th>state_code</th>\n",
       "      <th>county_code</th>\n",
       "      <th>applicant_ethnicity_1</th>\n",
       "      <th>applicant_ethnicity_observed</th>\n",
       "      <th>applicant_race_1</th>\n",
       "      <th>applicant_race_observed</th>\n",
       "      <th>applicant_sex</th>\n",
       "      <th>applicant_sex_observed</th>\n",
       "      <th>applicant_age</th>\n",
       "      <th>income</th>\n",
       "      <th>denial_reason_1</th>\n",
       "      <th>interest_rate</th>\n",
       "      <th>debt_to_income_ratio</th>\n",
       "      <th>combined_loan_to_value_ratio</th>\n",
       "      <th>property_value</th>\n",
       "    </tr>\n",
       "  </thead>\n",
       "  <tbody>\n",
       "    <tr>\n",
       "      <th>0</th>\n",
       "      <td>1</td>\n",
       "      <td>1</td>\n",
       "      <td>1</td>\n",
       "      <td>105000</td>\n",
       "      <td>1</td>\n",
       "      <td>TX</td>\n",
       "      <td>48355.0</td>\n",
       "      <td>2.0</td>\n",
       "      <td>2</td>\n",
       "      <td>3</td>\n",
       "      <td>2</td>\n",
       "      <td>2</td>\n",
       "      <td>1</td>\n",
       "      <td>25-34</td>\n",
       "      <td>97.0</td>\n",
       "      <td>10</td>\n",
       "      <td>4.25</td>\n",
       "      <td>30%-&lt;36%</td>\n",
       "      <td>90.0</td>\n",
       "      <td>115000</td>\n",
       "    </tr>\n",
       "    <tr>\n",
       "      <th>1</th>\n",
       "      <td>1</td>\n",
       "      <td>32</td>\n",
       "      <td>1</td>\n",
       "      <td>75000</td>\n",
       "      <td>1</td>\n",
       "      <td>TX</td>\n",
       "      <td>48355.0</td>\n",
       "      <td>1.0</td>\n",
       "      <td>2</td>\n",
       "      <td>5</td>\n",
       "      <td>2</td>\n",
       "      <td>2</td>\n",
       "      <td>2</td>\n",
       "      <td>35-44</td>\n",
       "      <td>70.0</td>\n",
       "      <td>10</td>\n",
       "      <td>5.25</td>\n",
       "      <td>40</td>\n",
       "      <td>70.0</td>\n",
       "      <td>105000</td>\n",
       "    </tr>\n",
       "    <tr>\n",
       "      <th>2</th>\n",
       "      <td>1</td>\n",
       "      <td>32</td>\n",
       "      <td>1</td>\n",
       "      <td>145000</td>\n",
       "      <td>1</td>\n",
       "      <td>TX</td>\n",
       "      <td>48355.0</td>\n",
       "      <td>1.0</td>\n",
       "      <td>2</td>\n",
       "      <td>5</td>\n",
       "      <td>2</td>\n",
       "      <td>1</td>\n",
       "      <td>2</td>\n",
       "      <td>35-44</td>\n",
       "      <td>93.0</td>\n",
       "      <td>10</td>\n",
       "      <td>7.0</td>\n",
       "      <td>37</td>\n",
       "      <td>75.0</td>\n",
       "      <td>215000</td>\n",
       "    </tr>\n",
       "    <tr>\n",
       "      <th>3</th>\n",
       "      <td>1</td>\n",
       "      <td>32</td>\n",
       "      <td>1</td>\n",
       "      <td>125000</td>\n",
       "      <td>1</td>\n",
       "      <td>TX</td>\n",
       "      <td>48355.0</td>\n",
       "      <td>1.0</td>\n",
       "      <td>1</td>\n",
       "      <td>5</td>\n",
       "      <td>1</td>\n",
       "      <td>2</td>\n",
       "      <td>1</td>\n",
       "      <td>45-54</td>\n",
       "      <td>59.0</td>\n",
       "      <td>10</td>\n",
       "      <td>4.25</td>\n",
       "      <td>20%-&lt;30%</td>\n",
       "      <td>80.0</td>\n",
       "      <td>155000</td>\n",
       "    </tr>\n",
       "    <tr>\n",
       "      <th>4</th>\n",
       "      <td>1</td>\n",
       "      <td>32</td>\n",
       "      <td>1</td>\n",
       "      <td>65000</td>\n",
       "      <td>1</td>\n",
       "      <td>TX</td>\n",
       "      <td>48355.0</td>\n",
       "      <td>1.0</td>\n",
       "      <td>2</td>\n",
       "      <td>5</td>\n",
       "      <td>2</td>\n",
       "      <td>1</td>\n",
       "      <td>1</td>\n",
       "      <td>45-54</td>\n",
       "      <td>30.0</td>\n",
       "      <td>10</td>\n",
       "      <td>6.5</td>\n",
       "      <td>30%-&lt;36%</td>\n",
       "      <td>41.935</td>\n",
       "      <td>155000</td>\n",
       "    </tr>\n",
       "  </tbody>\n",
       "</table>\n",
       "</div>"
      ],
      "text/plain": [
       "   loan_type  loan_purpose  occupancy_type  loan_amount  action_taken  \\\n",
       "0          1             1               1       105000             1   \n",
       "1          1            32               1        75000             1   \n",
       "2          1            32               1       145000             1   \n",
       "3          1            32               1       125000             1   \n",
       "4          1            32               1        65000             1   \n",
       "\n",
       "  state_code  county_code  applicant_ethnicity_1  \\\n",
       "0         TX      48355.0                    2.0   \n",
       "1         TX      48355.0                    1.0   \n",
       "2         TX      48355.0                    1.0   \n",
       "3         TX      48355.0                    1.0   \n",
       "4         TX      48355.0                    1.0   \n",
       "\n",
       "   applicant_ethnicity_observed  applicant_race_1  applicant_race_observed  \\\n",
       "0                             2                 3                        2   \n",
       "1                             2                 5                        2   \n",
       "2                             2                 5                        2   \n",
       "3                             1                 5                        1   \n",
       "4                             2                 5                        2   \n",
       "\n",
       "   applicant_sex  applicant_sex_observed applicant_age  income  \\\n",
       "0              2                       1         25-34    97.0   \n",
       "1              2                       2         35-44    70.0   \n",
       "2              1                       2         35-44    93.0   \n",
       "3              2                       1         45-54    59.0   \n",
       "4              1                       1         45-54    30.0   \n",
       "\n",
       "   denial_reason_1 interest_rate debt_to_income_ratio  \\\n",
       "0               10          4.25             30%-<36%   \n",
       "1               10          5.25                   40   \n",
       "2               10           7.0                   37   \n",
       "3               10          4.25             20%-<30%   \n",
       "4               10           6.5             30%-<36%   \n",
       "\n",
       "  combined_loan_to_value_ratio property_value  \n",
       "0                         90.0         115000  \n",
       "1                         70.0         105000  \n",
       "2                         75.0         215000  \n",
       "3                         80.0         155000  \n",
       "4                       41.935         155000  "
      ]
     },
     "execution_count": 4,
     "metadata": {},
     "output_type": "execute_result"
    }
   ],
   "source": [
    "data.head()"
   ]
  },
  {
   "cell_type": "code",
   "execution_count": 5,
   "id": "2b2af00b",
   "metadata": {},
   "outputs": [
    {
     "data": {
      "text/plain": [
       "array(['TX', 'MI', 'AZ', 'OH', nan, 'GA', 'CA', 'NY', 'ID', 'WY', 'NV',\n",
       "       'MT', 'OR', 'NH', 'CO', 'UT', 'DC', 'OK', 'FL', 'WA', 'MS', 'CT',\n",
       "       'IL', 'NC', 'KY', 'NJ', 'MD', 'MO', 'IA', 'PA', 'TN', 'AL', 'WV',\n",
       "       'ME', 'VA', 'IN', 'DE', 'SC', 'AR', 'HI', 'MA', 'MN', 'WI', 'NM',\n",
       "       'SD', 'KS', 'RI', 'LA', 'NE', 'ND', 'AK', 'VT'], dtype=object)"
      ]
     },
     "execution_count": 5,
     "metadata": {},
     "output_type": "execute_result"
    }
   ],
   "source": [
    "data['state_code'].unique() #how many states are in the data?"
   ]
  },
  {
   "cell_type": "code",
   "execution_count": 6,
   "id": "0fed89f6",
   "metadata": {},
   "outputs": [
    {
     "data": {
      "text/plain": [
       "loan_type                           0\n",
       "loan_purpose                        0\n",
       "occupancy_type                      0\n",
       "loan_amount                         0\n",
       "action_taken                        0\n",
       "state_code                        340\n",
       "county_code                       462\n",
       "applicant_ethnicity_1               4\n",
       "applicant_ethnicity_observed        0\n",
       "applicant_race_1                    0\n",
       "applicant_race_observed             0\n",
       "applicant_sex                       0\n",
       "applicant_sex_observed              0\n",
       "applicant_age                       0\n",
       "income                           8372\n",
       "denial_reason_1                     0\n",
       "interest_rate                   69201\n",
       "debt_to_income_ratio            45400\n",
       "combined_loan_to_value_ratio    41863\n",
       "property_value                  37754\n",
       "dtype: int64"
      ]
     },
     "execution_count": 6,
     "metadata": {},
     "output_type": "execute_result"
    }
   ],
   "source": [
    "data.isnull().sum() #checking for nulls"
   ]
  },
  {
   "cell_type": "code",
   "execution_count": 7,
   "id": "c5068998",
   "metadata": {},
   "outputs": [],
   "source": [
    "del data['county_code'] #not neccessary"
   ]
  },
  {
   "cell_type": "code",
   "execution_count": 8,
   "id": "80ccc15c",
   "metadata": {},
   "outputs": [
    {
     "data": {
      "text/plain": [
       "loan_type                           0\n",
       "loan_purpose                        0\n",
       "occupancy_type                      0\n",
       "loan_amount                         0\n",
       "action_taken                        0\n",
       "state_code                        340\n",
       "applicant_ethnicity_1               4\n",
       "applicant_ethnicity_observed        0\n",
       "applicant_race_1                    0\n",
       "applicant_race_observed             0\n",
       "applicant_sex                       0\n",
       "applicant_sex_observed              0\n",
       "applicant_age                       0\n",
       "income                           8372\n",
       "denial_reason_1                     0\n",
       "interest_rate                   69201\n",
       "debt_to_income_ratio            45400\n",
       "combined_loan_to_value_ratio    41863\n",
       "property_value                  37754\n",
       "dtype: int64"
      ]
     },
     "execution_count": 8,
     "metadata": {},
     "output_type": "execute_result"
    }
   ],
   "source": [
    "data.isnull().sum() #how many nulls?"
   ]
  },
  {
   "cell_type": "code",
   "execution_count": 9,
   "id": "56fe20aa",
   "metadata": {},
   "outputs": [],
   "source": [
    "data = data.drop(data[data['denial_reason_1'] == 1111].index)\n",
    "data = data.drop(data[data['denial_reason_1'] == 7].index)\n",
    "data = data.drop(data[data['interest_rate'] == 'Exempt'].index)\n",
    "data = data.drop(data[data['debt_to_income_ratio'] == 'Exempt'].index)\n",
    "data = data.drop(data[data['combined_loan_to_value_ratio'] == 'Exempt'].index)\n",
    "data = data.drop(data[data['applicant_age'] == '8888'].index)\n",
    "#exclude exempt entries, denial reason 7 for incomplete app, and reason codes 1111 & 8888 (which mean NA)"
   ]
  },
  {
   "cell_type": "code",
   "execution_count": 10,
   "id": "97810dec",
   "metadata": {},
   "outputs": [],
   "source": [
    "data = data.drop(data[data['action_taken'] == 2].index)\n",
    "data = data.drop(data[data['action_taken'] == 4].index)\n",
    "data = data.drop(data[data['action_taken'] == 5].index)\n",
    "data = data.drop(data[data['action_taken'] == 8].index)\n",
    "data = data.drop(data[data['action_taken'] == 6].index)\n",
    "#only including loan originated (1) and application denied (3) entries"
   ]
  },
  {
   "cell_type": "code",
   "execution_count": 11,
   "id": "f37b3cb2",
   "metadata": {},
   "outputs": [],
   "source": [
    "data = data[data['state_code'].notna()]\n",
    "data = data[data['income'].notna()] #delete nulls"
   ]
  },
  {
   "cell_type": "code",
   "execution_count": 12,
   "id": "13c4755e",
   "metadata": {},
   "outputs": [
    {
     "data": {
      "text/plain": [
       "(247685, 19)"
      ]
     },
     "execution_count": 12,
     "metadata": {},
     "output_type": "execute_result"
    }
   ],
   "source": [
    "data.shape"
   ]
  },
  {
   "cell_type": "code",
   "execution_count": 13,
   "id": "5cb68276",
   "metadata": {},
   "outputs": [
    {
     "data": {
      "text/plain": [
       "loan_type                           0\n",
       "loan_purpose                        0\n",
       "occupancy_type                      0\n",
       "loan_amount                         0\n",
       "action_taken                        0\n",
       "state_code                          0\n",
       "applicant_ethnicity_1               2\n",
       "applicant_ethnicity_observed        0\n",
       "applicant_race_1                    0\n",
       "applicant_race_observed             0\n",
       "applicant_sex                       0\n",
       "applicant_sex_observed              0\n",
       "applicant_age                       0\n",
       "income                              0\n",
       "denial_reason_1                     0\n",
       "interest_rate                   30557\n",
       "debt_to_income_ratio              849\n",
       "combined_loan_to_value_ratio       26\n",
       "property_value                     33\n",
       "dtype: int64"
      ]
     },
     "execution_count": 13,
     "metadata": {},
     "output_type": "execute_result"
    }
   ],
   "source": [
    "data.isnull().sum() #how many nulls?"
   ]
  },
  {
   "cell_type": "code",
   "execution_count": 14,
   "id": "ca7edc28",
   "metadata": {},
   "outputs": [
    {
     "name": "stdout",
     "output_type": "stream",
     "text": [
      "30556\n"
     ]
    }
   ],
   "source": [
    "count = data['action_taken'].value_counts()[3]\n",
    "print(count) #how many denials?"
   ]
  },
  {
   "cell_type": "code",
   "execution_count": 15,
   "id": "0df95c7b",
   "metadata": {},
   "outputs": [],
   "source": [
    "data = data[data['applicant_ethnicity_1'].notna()]\n",
    "data = data[data['debt_to_income_ratio'].notna()]\n",
    "data = data[data['combined_loan_to_value_ratio'].notna()]\n",
    "data = data[data['property_value'].notna()] #delete nulls"
   ]
  },
  {
   "cell_type": "code",
   "execution_count": 16,
   "id": "145f2796",
   "metadata": {},
   "outputs": [
    {
     "data": {
      "text/plain": [
       "loan_type                           0\n",
       "loan_purpose                        0\n",
       "occupancy_type                      0\n",
       "loan_amount                         0\n",
       "action_taken                        0\n",
       "state_code                          0\n",
       "applicant_ethnicity_1               0\n",
       "applicant_ethnicity_observed        0\n",
       "applicant_race_1                    0\n",
       "applicant_race_observed             0\n",
       "applicant_sex                       0\n",
       "applicant_sex_observed              0\n",
       "applicant_age                       0\n",
       "income                              0\n",
       "denial_reason_1                     0\n",
       "interest_rate                   30089\n",
       "debt_to_income_ratio                0\n",
       "combined_loan_to_value_ratio        0\n",
       "property_value                      0\n",
       "dtype: int64"
      ]
     },
     "execution_count": 16,
     "metadata": {},
     "output_type": "execute_result"
    }
   ],
   "source": [
    "data.isnull().sum() \n",
    "#leaving interest rate null since only approved loans get rates"
   ]
  },
  {
   "cell_type": "code",
   "execution_count": 17,
   "id": "30e83b51",
   "metadata": {},
   "outputs": [
    {
     "data": {
      "text/plain": [
       "(246802, 19)"
      ]
     },
     "execution_count": 17,
     "metadata": {},
     "output_type": "execute_result"
    }
   ],
   "source": [
    "data.shape #total entries"
   ]
  },
  {
   "cell_type": "code",
   "execution_count": 18,
   "id": "02fba7bd",
   "metadata": {},
   "outputs": [
    {
     "data": {
      "text/plain": [
       "51776.0"
      ]
     },
     "execution_count": 18,
     "metadata": {},
     "output_type": "execute_result"
    }
   ],
   "source": [
    "max(data['income']) #highest income"
   ]
  },
  {
   "cell_type": "code",
   "execution_count": 19,
   "id": "09a36875",
   "metadata": {},
   "outputs": [],
   "source": [
    "q_low = data['income'].quantile(0.01)\n",
    "q_hi  = data['income'].quantile(0.99)\n",
    "data = data[(data['income'] < q_hi) & (data['income'] > q_low)] \n",
    "#exclude outliers in new dataset"
   ]
  },
  {
   "cell_type": "code",
   "execution_count": 20,
   "id": "ec64f6d3",
   "metadata": {},
   "outputs": [
    {
     "data": {
      "text/plain": [
       "607.0"
      ]
     },
     "execution_count": 20,
     "metadata": {},
     "output_type": "execute_result"
    }
   ],
   "source": [
    "max(data['income']) #new highest income"
   ]
  },
  {
   "cell_type": "code",
   "execution_count": 21,
   "id": "17a6c1a3",
   "metadata": {},
   "outputs": [
    {
     "data": {
      "text/plain": [
       "25.0"
      ]
     },
     "execution_count": 21,
     "metadata": {},
     "output_type": "execute_result"
    }
   ],
   "source": [
    "min(data['income']) #lowest income"
   ]
  },
  {
   "cell_type": "code",
   "execution_count": 22,
   "id": "11ee336e",
   "metadata": {},
   "outputs": [],
   "source": [
    "#creating categorical columns for demographic data\n",
    "e_dict = {1:'Hispanic or Latino',2:'Not Hispanic or Latino',\n",
    "                       3:'Not Provided',4:'Not Provided'} \n",
    "data['ethnicity_categorical'] = data['applicant_ethnicity_1'].map(e_dict)\n",
    "s_dict = {1:'Male',2:'Female',3:'Not Provided',4:'Not Applicable',6:'Both Selections Made'}\n",
    "data['sex_categorical'] = data['applicant_sex'].map(s_dict)\n",
    "r_dict = {1:'Native American or Alaska Native',2:'Asian',3:'Asian Indian',\n",
    "                   22:'Chinese',23:'Filipino',24:'Japanese',25:'Korean',\n",
    "                  26:'Vietnamese',27:'Other Asian',3:'Black or African American',\n",
    "                  4:'Native Hawaiian or Other Pacific Islander',41:'Native Hawaiian',\n",
    "                  42:'Guamanian or Chamorro',43:'Samoan',44:'Other Pacific Islander',\n",
    "                  5:'White',6:'Not Provided'}\n",
    "data['race_categorical'] = data['applicant_race_1'].map(r_dict)"
   ]
  },
  {
   "cell_type": "code",
   "execution_count": 23,
   "id": "bfaf547d",
   "metadata": {},
   "outputs": [],
   "source": [
    "#creating categorical columns for other variables\n",
    "action_dictionary = {1:'Approved',3:'Denied'}\n",
    "data['action_categorical'] = data['action_taken'].map(action_dictionary)\n",
    "purpose_dictionary = {1:'Home Purchase',2:'Home Improvement',31:'Refinancing',\n",
    "                      32:'Cash-Out Refinancing',4:'Other',5:'Not Applicable'}\n",
    "data['purpose_categorical'] = data['loan_purpose'].map(purpose_dictionary)\n",
    "type_dictionary = {1:'Conventional',2:'FHA Insured',3:'VA Guaranteed',\n",
    "                   4:'USDA RHA or FSA Guaranteed'}\n",
    "data['type_categorical'] = data['loan_type'].map(type_dictionary)\n",
    "occupancy_dictionary = {1:'Principal Residence',2:'Second Residence',3:'Investment Property'}\n",
    "data['occupancy_categorical'] = data['occupancy_type'].map(occupancy_dictionary)\n",
    "denial_dictionary = {1:'Debt to Income Ratio',2:'Employment History',\n",
    "                     3:'Credit History',4:'Collateral',5:'Insufficent Cash',\n",
    "                    6:'Unverifiable Information',\n",
    "                    8:'Mortgage Insurance Denied',9:'Other',10:'Not Applicable'}\n",
    "data['denial_categorical'] = data['denial_reason_1'].map(denial_dictionary)"
   ]
  },
  {
   "cell_type": "code",
   "execution_count": 24,
   "id": "f8b6bcd8",
   "metadata": {},
   "outputs": [
    {
     "data": {
      "text/html": [
       "<div>\n",
       "<style scoped>\n",
       "    .dataframe tbody tr th:only-of-type {\n",
       "        vertical-align: middle;\n",
       "    }\n",
       "\n",
       "    .dataframe tbody tr th {\n",
       "        vertical-align: top;\n",
       "    }\n",
       "\n",
       "    .dataframe thead th {\n",
       "        text-align: right;\n",
       "    }\n",
       "</style>\n",
       "<table border=\"1\" class=\"dataframe\">\n",
       "  <thead>\n",
       "    <tr style=\"text-align: right;\">\n",
       "      <th></th>\n",
       "      <th>loan_type</th>\n",
       "      <th>loan_purpose</th>\n",
       "      <th>occupancy_type</th>\n",
       "      <th>loan_amount</th>\n",
       "      <th>action_taken</th>\n",
       "      <th>state_code</th>\n",
       "      <th>applicant_ethnicity_1</th>\n",
       "      <th>applicant_ethnicity_observed</th>\n",
       "      <th>applicant_race_1</th>\n",
       "      <th>applicant_race_observed</th>\n",
       "      <th>...</th>\n",
       "      <th>combined_loan_to_value_ratio</th>\n",
       "      <th>property_value</th>\n",
       "      <th>ethnicity_categorical</th>\n",
       "      <th>sex_categorical</th>\n",
       "      <th>race_categorical</th>\n",
       "      <th>action_categorical</th>\n",
       "      <th>purpose_categorical</th>\n",
       "      <th>type_categorical</th>\n",
       "      <th>occupancy_categorical</th>\n",
       "      <th>denial_categorical</th>\n",
       "    </tr>\n",
       "  </thead>\n",
       "  <tbody>\n",
       "    <tr>\n",
       "      <th>0</th>\n",
       "      <td>1</td>\n",
       "      <td>1</td>\n",
       "      <td>1</td>\n",
       "      <td>105000</td>\n",
       "      <td>1</td>\n",
       "      <td>TX</td>\n",
       "      <td>2.0</td>\n",
       "      <td>2</td>\n",
       "      <td>3</td>\n",
       "      <td>2</td>\n",
       "      <td>...</td>\n",
       "      <td>90.0</td>\n",
       "      <td>115000</td>\n",
       "      <td>Not Hispanic or Latino</td>\n",
       "      <td>Female</td>\n",
       "      <td>Black or African American</td>\n",
       "      <td>Approved</td>\n",
       "      <td>Home Purchase</td>\n",
       "      <td>Conventional</td>\n",
       "      <td>Principal Residence</td>\n",
       "      <td>Not Applicable</td>\n",
       "    </tr>\n",
       "    <tr>\n",
       "      <th>1</th>\n",
       "      <td>1</td>\n",
       "      <td>32</td>\n",
       "      <td>1</td>\n",
       "      <td>75000</td>\n",
       "      <td>1</td>\n",
       "      <td>TX</td>\n",
       "      <td>1.0</td>\n",
       "      <td>2</td>\n",
       "      <td>5</td>\n",
       "      <td>2</td>\n",
       "      <td>...</td>\n",
       "      <td>70.0</td>\n",
       "      <td>105000</td>\n",
       "      <td>Hispanic or Latino</td>\n",
       "      <td>Female</td>\n",
       "      <td>White</td>\n",
       "      <td>Approved</td>\n",
       "      <td>Cash-Out Refinancing</td>\n",
       "      <td>Conventional</td>\n",
       "      <td>Principal Residence</td>\n",
       "      <td>Not Applicable</td>\n",
       "    </tr>\n",
       "    <tr>\n",
       "      <th>2</th>\n",
       "      <td>1</td>\n",
       "      <td>32</td>\n",
       "      <td>1</td>\n",
       "      <td>145000</td>\n",
       "      <td>1</td>\n",
       "      <td>TX</td>\n",
       "      <td>1.0</td>\n",
       "      <td>2</td>\n",
       "      <td>5</td>\n",
       "      <td>2</td>\n",
       "      <td>...</td>\n",
       "      <td>75.0</td>\n",
       "      <td>215000</td>\n",
       "      <td>Hispanic or Latino</td>\n",
       "      <td>Male</td>\n",
       "      <td>White</td>\n",
       "      <td>Approved</td>\n",
       "      <td>Cash-Out Refinancing</td>\n",
       "      <td>Conventional</td>\n",
       "      <td>Principal Residence</td>\n",
       "      <td>Not Applicable</td>\n",
       "    </tr>\n",
       "    <tr>\n",
       "      <th>3</th>\n",
       "      <td>1</td>\n",
       "      <td>32</td>\n",
       "      <td>1</td>\n",
       "      <td>125000</td>\n",
       "      <td>1</td>\n",
       "      <td>TX</td>\n",
       "      <td>1.0</td>\n",
       "      <td>1</td>\n",
       "      <td>5</td>\n",
       "      <td>1</td>\n",
       "      <td>...</td>\n",
       "      <td>80.0</td>\n",
       "      <td>155000</td>\n",
       "      <td>Hispanic or Latino</td>\n",
       "      <td>Female</td>\n",
       "      <td>White</td>\n",
       "      <td>Approved</td>\n",
       "      <td>Cash-Out Refinancing</td>\n",
       "      <td>Conventional</td>\n",
       "      <td>Principal Residence</td>\n",
       "      <td>Not Applicable</td>\n",
       "    </tr>\n",
       "    <tr>\n",
       "      <th>4</th>\n",
       "      <td>1</td>\n",
       "      <td>32</td>\n",
       "      <td>1</td>\n",
       "      <td>65000</td>\n",
       "      <td>1</td>\n",
       "      <td>TX</td>\n",
       "      <td>1.0</td>\n",
       "      <td>2</td>\n",
       "      <td>5</td>\n",
       "      <td>2</td>\n",
       "      <td>...</td>\n",
       "      <td>41.935</td>\n",
       "      <td>155000</td>\n",
       "      <td>Hispanic or Latino</td>\n",
       "      <td>Male</td>\n",
       "      <td>White</td>\n",
       "      <td>Approved</td>\n",
       "      <td>Cash-Out Refinancing</td>\n",
       "      <td>Conventional</td>\n",
       "      <td>Principal Residence</td>\n",
       "      <td>Not Applicable</td>\n",
       "    </tr>\n",
       "  </tbody>\n",
       "</table>\n",
       "<p>5 rows × 27 columns</p>\n",
       "</div>"
      ],
      "text/plain": [
       "   loan_type  loan_purpose  occupancy_type  loan_amount  action_taken  \\\n",
       "0          1             1               1       105000             1   \n",
       "1          1            32               1        75000             1   \n",
       "2          1            32               1       145000             1   \n",
       "3          1            32               1       125000             1   \n",
       "4          1            32               1        65000             1   \n",
       "\n",
       "  state_code  applicant_ethnicity_1  applicant_ethnicity_observed  \\\n",
       "0         TX                    2.0                             2   \n",
       "1         TX                    1.0                             2   \n",
       "2         TX                    1.0                             2   \n",
       "3         TX                    1.0                             1   \n",
       "4         TX                    1.0                             2   \n",
       "\n",
       "   applicant_race_1  applicant_race_observed  ...  \\\n",
       "0                 3                        2  ...   \n",
       "1                 5                        2  ...   \n",
       "2                 5                        2  ...   \n",
       "3                 5                        1  ...   \n",
       "4                 5                        2  ...   \n",
       "\n",
       "   combined_loan_to_value_ratio  property_value   ethnicity_categorical  \\\n",
       "0                          90.0          115000  Not Hispanic or Latino   \n",
       "1                          70.0          105000      Hispanic or Latino   \n",
       "2                          75.0          215000      Hispanic or Latino   \n",
       "3                          80.0          155000      Hispanic or Latino   \n",
       "4                        41.935          155000      Hispanic or Latino   \n",
       "\n",
       "   sex_categorical           race_categorical action_categorical  \\\n",
       "0           Female  Black or African American           Approved   \n",
       "1           Female                      White           Approved   \n",
       "2             Male                      White           Approved   \n",
       "3           Female                      White           Approved   \n",
       "4             Male                      White           Approved   \n",
       "\n",
       "    purpose_categorical type_categorical occupancy_categorical  \\\n",
       "0         Home Purchase     Conventional   Principal Residence   \n",
       "1  Cash-Out Refinancing     Conventional   Principal Residence   \n",
       "2  Cash-Out Refinancing     Conventional   Principal Residence   \n",
       "3  Cash-Out Refinancing     Conventional   Principal Residence   \n",
       "4  Cash-Out Refinancing     Conventional   Principal Residence   \n",
       "\n",
       "  denial_categorical  \n",
       "0     Not Applicable  \n",
       "1     Not Applicable  \n",
       "2     Not Applicable  \n",
       "3     Not Applicable  \n",
       "4     Not Applicable  \n",
       "\n",
       "[5 rows x 27 columns]"
      ]
     },
     "execution_count": 24,
     "metadata": {},
     "output_type": "execute_result"
    }
   ],
   "source": [
    "data.head()"
   ]
  },
  {
   "cell_type": "code",
   "execution_count": 25,
   "id": "69aaf030",
   "metadata": {},
   "outputs": [
    {
     "data": {
      "text/plain": [
       "loan_type                           0\n",
       "loan_purpose                        0\n",
       "occupancy_type                      0\n",
       "loan_amount                         0\n",
       "action_taken                        0\n",
       "state_code                          0\n",
       "applicant_ethnicity_1               0\n",
       "applicant_ethnicity_observed        0\n",
       "applicant_race_1                    0\n",
       "applicant_race_observed             0\n",
       "applicant_sex                       0\n",
       "applicant_sex_observed              0\n",
       "applicant_age                       0\n",
       "income                              0\n",
       "denial_reason_1                     0\n",
       "interest_rate                   27834\n",
       "debt_to_income_ratio                0\n",
       "combined_loan_to_value_ratio        0\n",
       "property_value                      0\n",
       "ethnicity_categorical            3371\n",
       "sex_categorical                     0\n",
       "race_categorical                  778\n",
       "action_categorical                  0\n",
       "purpose_categorical                 0\n",
       "type_categorical                    0\n",
       "occupancy_categorical               0\n",
       "denial_categorical                  0\n",
       "dtype: int64"
      ]
     },
     "execution_count": 25,
     "metadata": {},
     "output_type": "execute_result"
    }
   ],
   "source": [
    "data.isnull().sum() \n"
   ]
  },
  {
   "cell_type": "code",
   "execution_count": 26,
   "id": "d55157bc",
   "metadata": {
    "scrolled": true
   },
   "outputs": [
    {
     "data": {
      "text/html": [
       "<div>\n",
       "<style scoped>\n",
       "    .dataframe tbody tr th:only-of-type {\n",
       "        vertical-align: middle;\n",
       "    }\n",
       "\n",
       "    .dataframe tbody tr th {\n",
       "        vertical-align: top;\n",
       "    }\n",
       "\n",
       "    .dataframe thead th {\n",
       "        text-align: right;\n",
       "    }\n",
       "</style>\n",
       "<table border=\"1\" class=\"dataframe\">\n",
       "  <thead>\n",
       "    <tr style=\"text-align: right;\">\n",
       "      <th>action_categorical</th>\n",
       "      <th>Approved</th>\n",
       "      <th>Denied</th>\n",
       "    </tr>\n",
       "    <tr>\n",
       "      <th>debt_to_income_ratio</th>\n",
       "      <th></th>\n",
       "      <th></th>\n",
       "    </tr>\n",
       "  </thead>\n",
       "  <tbody>\n",
       "    <tr>\n",
       "      <th>20%-&lt;30%</th>\n",
       "      <td>0.936594</td>\n",
       "      <td>0.063406</td>\n",
       "    </tr>\n",
       "    <tr>\n",
       "      <th>30%-&lt;36%</th>\n",
       "      <td>0.931310</td>\n",
       "      <td>0.068690</td>\n",
       "    </tr>\n",
       "    <tr>\n",
       "      <th>36</th>\n",
       "      <td>0.926514</td>\n",
       "      <td>0.073486</td>\n",
       "    </tr>\n",
       "    <tr>\n",
       "      <th>37</th>\n",
       "      <td>0.928836</td>\n",
       "      <td>0.071164</td>\n",
       "    </tr>\n",
       "    <tr>\n",
       "      <th>38</th>\n",
       "      <td>0.920665</td>\n",
       "      <td>0.079335</td>\n",
       "    </tr>\n",
       "    <tr>\n",
       "      <th>39</th>\n",
       "      <td>0.921275</td>\n",
       "      <td>0.078725</td>\n",
       "    </tr>\n",
       "    <tr>\n",
       "      <th>40</th>\n",
       "      <td>0.924172</td>\n",
       "      <td>0.075828</td>\n",
       "    </tr>\n",
       "    <tr>\n",
       "      <th>41</th>\n",
       "      <td>0.925529</td>\n",
       "      <td>0.074471</td>\n",
       "    </tr>\n",
       "    <tr>\n",
       "      <th>42</th>\n",
       "      <td>0.925471</td>\n",
       "      <td>0.074529</td>\n",
       "    </tr>\n",
       "    <tr>\n",
       "      <th>43</th>\n",
       "      <td>0.917733</td>\n",
       "      <td>0.082267</td>\n",
       "    </tr>\n",
       "    <tr>\n",
       "      <th>44</th>\n",
       "      <td>0.927450</td>\n",
       "      <td>0.072550</td>\n",
       "    </tr>\n",
       "    <tr>\n",
       "      <th>45</th>\n",
       "      <td>0.907990</td>\n",
       "      <td>0.092010</td>\n",
       "    </tr>\n",
       "    <tr>\n",
       "      <th>46</th>\n",
       "      <td>0.900223</td>\n",
       "      <td>0.099777</td>\n",
       "    </tr>\n",
       "    <tr>\n",
       "      <th>47</th>\n",
       "      <td>0.903023</td>\n",
       "      <td>0.096977</td>\n",
       "    </tr>\n",
       "    <tr>\n",
       "      <th>48</th>\n",
       "      <td>0.908607</td>\n",
       "      <td>0.091393</td>\n",
       "    </tr>\n",
       "    <tr>\n",
       "      <th>49</th>\n",
       "      <td>0.918400</td>\n",
       "      <td>0.081600</td>\n",
       "    </tr>\n",
       "    <tr>\n",
       "      <th>50%-60%</th>\n",
       "      <td>0.732001</td>\n",
       "      <td>0.267999</td>\n",
       "    </tr>\n",
       "    <tr>\n",
       "      <th>&lt;20%</th>\n",
       "      <td>0.931623</td>\n",
       "      <td>0.068377</td>\n",
       "    </tr>\n",
       "    <tr>\n",
       "      <th>&gt;60%</th>\n",
       "      <td>0.243916</td>\n",
       "      <td>0.756084</td>\n",
       "    </tr>\n",
       "    <tr>\n",
       "      <th>All</th>\n",
       "      <td>0.884840</td>\n",
       "      <td>0.115160</td>\n",
       "    </tr>\n",
       "  </tbody>\n",
       "</table>\n",
       "</div>"
      ],
      "text/plain": [
       "action_categorical    Approved    Denied\n",
       "debt_to_income_ratio                    \n",
       "20%-<30%              0.936594  0.063406\n",
       "30%-<36%              0.931310  0.068690\n",
       "36                    0.926514  0.073486\n",
       "37                    0.928836  0.071164\n",
       "38                    0.920665  0.079335\n",
       "39                    0.921275  0.078725\n",
       "40                    0.924172  0.075828\n",
       "41                    0.925529  0.074471\n",
       "42                    0.925471  0.074529\n",
       "43                    0.917733  0.082267\n",
       "44                    0.927450  0.072550\n",
       "45                    0.907990  0.092010\n",
       "46                    0.900223  0.099777\n",
       "47                    0.903023  0.096977\n",
       "48                    0.908607  0.091393\n",
       "49                    0.918400  0.081600\n",
       "50%-60%               0.732001  0.267999\n",
       "<20%                  0.931623  0.068377\n",
       ">60%                  0.243916  0.756084\n",
       "All                   0.884840  0.115160"
      ]
     },
     "execution_count": 26,
     "metadata": {},
     "output_type": "execute_result"
    }
   ],
   "source": [
    "contitab_relfreq =pd.crosstab( \n",
    "     data['debt_to_income_ratio'], \n",
    "     data['action_categorical'], \n",
    "     margins = True, \n",
    "     normalize = 'index' \n",
    "     ) \n",
    "contitab_relfreq #overall action compared to DtoI"
   ]
  },
  {
   "cell_type": "code",
   "execution_count": 27,
   "id": "2d9edd6a",
   "metadata": {},
   "outputs": [],
   "source": [
    "denial_data = data[data['denial_reason_1'] != 10] #splitting denials from approvals"
   ]
  },
  {
   "cell_type": "code",
   "execution_count": 28,
   "id": "6a1b4e8d",
   "metadata": {},
   "outputs": [
    {
     "data": {
      "text/html": [
       "<div>\n",
       "<style scoped>\n",
       "    .dataframe tbody tr th:only-of-type {\n",
       "        vertical-align: middle;\n",
       "    }\n",
       "\n",
       "    .dataframe tbody tr th {\n",
       "        vertical-align: top;\n",
       "    }\n",
       "\n",
       "    .dataframe thead th {\n",
       "        text-align: right;\n",
       "    }\n",
       "</style>\n",
       "<table border=\"1\" class=\"dataframe\">\n",
       "  <thead>\n",
       "    <tr style=\"text-align: right;\">\n",
       "      <th>denial_categorical</th>\n",
       "      <th>Collateral</th>\n",
       "      <th>Credit History</th>\n",
       "      <th>Debt to Income Ratio</th>\n",
       "      <th>Employment History</th>\n",
       "      <th>Insufficent Cash</th>\n",
       "      <th>Mortgage Insurance Denied</th>\n",
       "      <th>Other</th>\n",
       "      <th>Unverifiable Information</th>\n",
       "    </tr>\n",
       "    <tr>\n",
       "      <th>debt_to_income_ratio</th>\n",
       "      <th></th>\n",
       "      <th></th>\n",
       "      <th></th>\n",
       "      <th></th>\n",
       "      <th></th>\n",
       "      <th></th>\n",
       "      <th></th>\n",
       "      <th></th>\n",
       "    </tr>\n",
       "  </thead>\n",
       "  <tbody>\n",
       "    <tr>\n",
       "      <th>20%-&lt;30%</th>\n",
       "      <td>0.460874</td>\n",
       "      <td>0.111858</td>\n",
       "      <td>0.023524</td>\n",
       "      <td>0.002400</td>\n",
       "      <td>0.213154</td>\n",
       "      <td>0.000000</td>\n",
       "      <td>0.161786</td>\n",
       "      <td>0.026404</td>\n",
       "    </tr>\n",
       "    <tr>\n",
       "      <th>30%-&lt;36%</th>\n",
       "      <td>0.482246</td>\n",
       "      <td>0.090834</td>\n",
       "      <td>0.035508</td>\n",
       "      <td>0.001239</td>\n",
       "      <td>0.229975</td>\n",
       "      <td>0.000000</td>\n",
       "      <td>0.135425</td>\n",
       "      <td>0.024773</td>\n",
       "    </tr>\n",
       "    <tr>\n",
       "      <th>36</th>\n",
       "      <td>0.517375</td>\n",
       "      <td>0.071429</td>\n",
       "      <td>0.030888</td>\n",
       "      <td>0.001931</td>\n",
       "      <td>0.225869</td>\n",
       "      <td>0.000000</td>\n",
       "      <td>0.125483</td>\n",
       "      <td>0.027027</td>\n",
       "    </tr>\n",
       "    <tr>\n",
       "      <th>37</th>\n",
       "      <td>0.490706</td>\n",
       "      <td>0.081784</td>\n",
       "      <td>0.053903</td>\n",
       "      <td>0.001859</td>\n",
       "      <td>0.221190</td>\n",
       "      <td>0.000000</td>\n",
       "      <td>0.128253</td>\n",
       "      <td>0.022305</td>\n",
       "    </tr>\n",
       "    <tr>\n",
       "      <th>38</th>\n",
       "      <td>0.497638</td>\n",
       "      <td>0.092913</td>\n",
       "      <td>0.067717</td>\n",
       "      <td>0.003150</td>\n",
       "      <td>0.207874</td>\n",
       "      <td>0.000000</td>\n",
       "      <td>0.110236</td>\n",
       "      <td>0.020472</td>\n",
       "    </tr>\n",
       "    <tr>\n",
       "      <th>39</th>\n",
       "      <td>0.481873</td>\n",
       "      <td>0.092145</td>\n",
       "      <td>0.055891</td>\n",
       "      <td>0.001511</td>\n",
       "      <td>0.231118</td>\n",
       "      <td>0.000000</td>\n",
       "      <td>0.122356</td>\n",
       "      <td>0.015106</td>\n",
       "    </tr>\n",
       "    <tr>\n",
       "      <th>40</th>\n",
       "      <td>0.528384</td>\n",
       "      <td>0.087336</td>\n",
       "      <td>0.056769</td>\n",
       "      <td>0.000000</td>\n",
       "      <td>0.177584</td>\n",
       "      <td>0.001456</td>\n",
       "      <td>0.129549</td>\n",
       "      <td>0.018923</td>\n",
       "    </tr>\n",
       "    <tr>\n",
       "      <th>41</th>\n",
       "      <td>0.479720</td>\n",
       "      <td>0.089510</td>\n",
       "      <td>0.054545</td>\n",
       "      <td>0.000000</td>\n",
       "      <td>0.239161</td>\n",
       "      <td>0.000000</td>\n",
       "      <td>0.107692</td>\n",
       "      <td>0.029371</td>\n",
       "    </tr>\n",
       "    <tr>\n",
       "      <th>42</th>\n",
       "      <td>0.489529</td>\n",
       "      <td>0.066754</td>\n",
       "      <td>0.066754</td>\n",
       "      <td>0.001309</td>\n",
       "      <td>0.229058</td>\n",
       "      <td>0.000000</td>\n",
       "      <td>0.126963</td>\n",
       "      <td>0.019634</td>\n",
       "    </tr>\n",
       "    <tr>\n",
       "      <th>43</th>\n",
       "      <td>0.468785</td>\n",
       "      <td>0.055619</td>\n",
       "      <td>0.111237</td>\n",
       "      <td>0.000000</td>\n",
       "      <td>0.253121</td>\n",
       "      <td>0.000000</td>\n",
       "      <td>0.093076</td>\n",
       "      <td>0.018161</td>\n",
       "    </tr>\n",
       "    <tr>\n",
       "      <th>44</th>\n",
       "      <td>0.454931</td>\n",
       "      <td>0.068929</td>\n",
       "      <td>0.102863</td>\n",
       "      <td>0.003181</td>\n",
       "      <td>0.230117</td>\n",
       "      <td>0.000000</td>\n",
       "      <td>0.119830</td>\n",
       "      <td>0.020148</td>\n",
       "    </tr>\n",
       "    <tr>\n",
       "      <th>45</th>\n",
       "      <td>0.404605</td>\n",
       "      <td>0.057018</td>\n",
       "      <td>0.206140</td>\n",
       "      <td>0.001096</td>\n",
       "      <td>0.225877</td>\n",
       "      <td>0.000000</td>\n",
       "      <td>0.085526</td>\n",
       "      <td>0.019737</td>\n",
       "    </tr>\n",
       "    <tr>\n",
       "      <th>46</th>\n",
       "      <td>0.393192</td>\n",
       "      <td>0.041080</td>\n",
       "      <td>0.227700</td>\n",
       "      <td>0.001174</td>\n",
       "      <td>0.254695</td>\n",
       "      <td>0.000000</td>\n",
       "      <td>0.066901</td>\n",
       "      <td>0.015258</td>\n",
       "    </tr>\n",
       "    <tr>\n",
       "      <th>47</th>\n",
       "      <td>0.394767</td>\n",
       "      <td>0.045506</td>\n",
       "      <td>0.232082</td>\n",
       "      <td>0.001138</td>\n",
       "      <td>0.235495</td>\n",
       "      <td>0.000000</td>\n",
       "      <td>0.076223</td>\n",
       "      <td>0.014790</td>\n",
       "    </tr>\n",
       "    <tr>\n",
       "      <th>48</th>\n",
       "      <td>0.357223</td>\n",
       "      <td>0.052632</td>\n",
       "      <td>0.243001</td>\n",
       "      <td>0.001120</td>\n",
       "      <td>0.258679</td>\n",
       "      <td>0.000000</td>\n",
       "      <td>0.070549</td>\n",
       "      <td>0.016797</td>\n",
       "    </tr>\n",
       "    <tr>\n",
       "      <th>49</th>\n",
       "      <td>0.337349</td>\n",
       "      <td>0.037998</td>\n",
       "      <td>0.240037</td>\n",
       "      <td>0.000000</td>\n",
       "      <td>0.288230</td>\n",
       "      <td>0.000000</td>\n",
       "      <td>0.082484</td>\n",
       "      <td>0.013902</td>\n",
       "    </tr>\n",
       "    <tr>\n",
       "      <th>50%-60%</th>\n",
       "      <td>0.195990</td>\n",
       "      <td>0.038974</td>\n",
       "      <td>0.653408</td>\n",
       "      <td>0.000642</td>\n",
       "      <td>0.065277</td>\n",
       "      <td>0.000000</td>\n",
       "      <td>0.039134</td>\n",
       "      <td>0.006576</td>\n",
       "    </tr>\n",
       "    <tr>\n",
       "      <th>&lt;20%</th>\n",
       "      <td>0.352066</td>\n",
       "      <td>0.163636</td>\n",
       "      <td>0.008264</td>\n",
       "      <td>0.004959</td>\n",
       "      <td>0.188430</td>\n",
       "      <td>0.001653</td>\n",
       "      <td>0.236364</td>\n",
       "      <td>0.044628</td>\n",
       "    </tr>\n",
       "    <tr>\n",
       "      <th>&gt;60%</th>\n",
       "      <td>0.045208</td>\n",
       "      <td>0.013201</td>\n",
       "      <td>0.897107</td>\n",
       "      <td>0.000181</td>\n",
       "      <td>0.019530</td>\n",
       "      <td>0.000000</td>\n",
       "      <td>0.017179</td>\n",
       "      <td>0.007595</td>\n",
       "    </tr>\n",
       "    <tr>\n",
       "      <th>All</th>\n",
       "      <td>0.310279</td>\n",
       "      <td>0.056516</td>\n",
       "      <td>0.383933</td>\n",
       "      <td>0.001042</td>\n",
       "      <td>0.152014</td>\n",
       "      <td>0.000072</td>\n",
       "      <td>0.080624</td>\n",
       "      <td>0.015521</td>\n",
       "    </tr>\n",
       "  </tbody>\n",
       "</table>\n",
       "</div>"
      ],
      "text/plain": [
       "denial_categorical    Collateral  Credit History  Debt to Income Ratio  \\\n",
       "debt_to_income_ratio                                                     \n",
       "20%-<30%                0.460874        0.111858              0.023524   \n",
       "30%-<36%                0.482246        0.090834              0.035508   \n",
       "36                      0.517375        0.071429              0.030888   \n",
       "37                      0.490706        0.081784              0.053903   \n",
       "38                      0.497638        0.092913              0.067717   \n",
       "39                      0.481873        0.092145              0.055891   \n",
       "40                      0.528384        0.087336              0.056769   \n",
       "41                      0.479720        0.089510              0.054545   \n",
       "42                      0.489529        0.066754              0.066754   \n",
       "43                      0.468785        0.055619              0.111237   \n",
       "44                      0.454931        0.068929              0.102863   \n",
       "45                      0.404605        0.057018              0.206140   \n",
       "46                      0.393192        0.041080              0.227700   \n",
       "47                      0.394767        0.045506              0.232082   \n",
       "48                      0.357223        0.052632              0.243001   \n",
       "49                      0.337349        0.037998              0.240037   \n",
       "50%-60%                 0.195990        0.038974              0.653408   \n",
       "<20%                    0.352066        0.163636              0.008264   \n",
       ">60%                    0.045208        0.013201              0.897107   \n",
       "All                     0.310279        0.056516              0.383933   \n",
       "\n",
       "denial_categorical    Employment History  Insufficent Cash  \\\n",
       "debt_to_income_ratio                                         \n",
       "20%-<30%                        0.002400          0.213154   \n",
       "30%-<36%                        0.001239          0.229975   \n",
       "36                              0.001931          0.225869   \n",
       "37                              0.001859          0.221190   \n",
       "38                              0.003150          0.207874   \n",
       "39                              0.001511          0.231118   \n",
       "40                              0.000000          0.177584   \n",
       "41                              0.000000          0.239161   \n",
       "42                              0.001309          0.229058   \n",
       "43                              0.000000          0.253121   \n",
       "44                              0.003181          0.230117   \n",
       "45                              0.001096          0.225877   \n",
       "46                              0.001174          0.254695   \n",
       "47                              0.001138          0.235495   \n",
       "48                              0.001120          0.258679   \n",
       "49                              0.000000          0.288230   \n",
       "50%-60%                         0.000642          0.065277   \n",
       "<20%                            0.004959          0.188430   \n",
       ">60%                            0.000181          0.019530   \n",
       "All                             0.001042          0.152014   \n",
       "\n",
       "denial_categorical    Mortgage Insurance Denied     Other  \\\n",
       "debt_to_income_ratio                                        \n",
       "20%-<30%                               0.000000  0.161786   \n",
       "30%-<36%                               0.000000  0.135425   \n",
       "36                                     0.000000  0.125483   \n",
       "37                                     0.000000  0.128253   \n",
       "38                                     0.000000  0.110236   \n",
       "39                                     0.000000  0.122356   \n",
       "40                                     0.001456  0.129549   \n",
       "41                                     0.000000  0.107692   \n",
       "42                                     0.000000  0.126963   \n",
       "43                                     0.000000  0.093076   \n",
       "44                                     0.000000  0.119830   \n",
       "45                                     0.000000  0.085526   \n",
       "46                                     0.000000  0.066901   \n",
       "47                                     0.000000  0.076223   \n",
       "48                                     0.000000  0.070549   \n",
       "49                                     0.000000  0.082484   \n",
       "50%-60%                                0.000000  0.039134   \n",
       "<20%                                   0.001653  0.236364   \n",
       ">60%                                   0.000000  0.017179   \n",
       "All                                    0.000072  0.080624   \n",
       "\n",
       "denial_categorical    Unverifiable Information  \n",
       "debt_to_income_ratio                            \n",
       "20%-<30%                              0.026404  \n",
       "30%-<36%                              0.024773  \n",
       "36                                    0.027027  \n",
       "37                                    0.022305  \n",
       "38                                    0.020472  \n",
       "39                                    0.015106  \n",
       "40                                    0.018923  \n",
       "41                                    0.029371  \n",
       "42                                    0.019634  \n",
       "43                                    0.018161  \n",
       "44                                    0.020148  \n",
       "45                                    0.019737  \n",
       "46                                    0.015258  \n",
       "47                                    0.014790  \n",
       "48                                    0.016797  \n",
       "49                                    0.013902  \n",
       "50%-60%                               0.006576  \n",
       "<20%                                  0.044628  \n",
       ">60%                                  0.007595  \n",
       "All                                   0.015521  "
      ]
     },
     "execution_count": 28,
     "metadata": {},
     "output_type": "execute_result"
    }
   ],
   "source": [
    "contitab_relfreq =pd.crosstab( \n",
    "     denial_data['debt_to_income_ratio'], \n",
    "     denial_data['denial_categorical'], \n",
    "     margins = True, \n",
    "     normalize = 'index' \n",
    "     )  \n",
    "contitab_relfreq #DtoI to reason"
   ]
  },
  {
   "cell_type": "code",
   "execution_count": 29,
   "id": "d8a9f7f7",
   "metadata": {
    "scrolled": false
   },
   "outputs": [
    {
     "data": {
      "image/png": "[encoded data removed]",
      "text/plain": [
       "<Figure size 2000x1000 with 1 Axes>"
      ]
     },
     "metadata": {},
     "output_type": "display_data"
    }
   ],
   "source": [
    "from matplotlib import pyplot as plt\n",
    "import seaborn as sns\n",
    "plt.figure(figsize=(20,10))\n",
    "sns.countplot(x=denial_data['debt_to_income_ratio'])\n",
    "plt.show() #DtoI of total denials"
   ]
  },
  {
   "cell_type": "code",
   "execution_count": 30,
   "id": "ba37bb70",
   "metadata": {},
   "outputs": [
    {
     "data": {
      "text/plain": [
       "<AxesSubplot:xlabel='debt_to_income_ratio'>"
      ]
     },
     "execution_count": 30,
     "metadata": {},
     "output_type": "execute_result"
    },
    {
     "data": {
      "image/png": "[encoded data removed]",
      "text/plain": [
       "<Figure size 2000x600 with 1 Axes>"
      ]
     },
     "metadata": {},
     "output_type": "display_data"
    }
   ],
   "source": [
    "(denial_data.groupby('debt_to_income_ratio')\n",
    "   ['denial_categorical'].value_counts()\n",
    "   .unstack()\n",
    "   .plot.bar(stacked=True,figsize=(20, 6))\n",
    ") #DtoI of denial reasons"
   ]
  },
  {
   "cell_type": "code",
   "execution_count": 31,
   "id": "085154aa",
   "metadata": {},
   "outputs": [],
   "source": [
    "#we see that Debt to Income ratio has a large impact on approval status\n",
    "data['combined_loan_to_value_ratio'] = data['combined_loan_to_value_ratio'].astype('float64')\n",
    "import numpy as np\n",
    "data['combined_loan_to_value_ratio'] = np.ceil(data['combined_loan_to_value_ratio']).astype(int) #change to int"
   ]
  },
  {
   "cell_type": "code",
   "execution_count": 32,
   "id": "66710333",
   "metadata": {},
   "outputs": [],
   "source": [
    "data['income'] = data['income'].astype(int) #change to int"
   ]
  },
  {
   "cell_type": "code",
   "execution_count": 33,
   "id": "541f8d1e",
   "metadata": {},
   "outputs": [],
   "source": [
    "approval_data = data[data['denial_reason_1'] == 10] #splitting approvals"
   ]
  },
  {
   "cell_type": "code",
   "execution_count": 34,
   "id": "997cfda7",
   "metadata": {},
   "outputs": [
    {
     "data": {
      "image/png": "[encoded data removed]",
      "text/plain": [
       "<Figure size 2000x1000 with 1 Axes>"
      ]
     },
     "metadata": {},
     "output_type": "display_data"
    }
   ],
   "source": [
    "plt.figure(figsize=(20,10))\n",
    "sns.countplot(x=approval_data['debt_to_income_ratio'])\n",
    "plt.show() #DtoI of approvals"
   ]
  },
  {
   "cell_type": "code",
   "execution_count": 35,
   "id": "f2d2bc7b",
   "metadata": {},
   "outputs": [
    {
     "data": {
      "text/plain": [
       "(27833, 27)"
      ]
     },
     "execution_count": 35,
     "metadata": {},
     "output_type": "execute_result"
    }
   ],
   "source": [
    "denial_data.shape #how many denials?"
   ]
  },
  {
   "cell_type": "code",
   "execution_count": 36,
   "id": "5dc244b7",
   "metadata": {},
   "outputs": [
    {
     "data": {
      "text/plain": [
       "(213856, 27)"
      ]
     },
     "execution_count": 36,
     "metadata": {},
     "output_type": "execute_result"
    }
   ],
   "source": [
    "approval_data.shape #how many approvals?"
   ]
  },
  {
   "cell_type": "code",
   "execution_count": 37,
   "id": "bf21e6ae",
   "metadata": {},
   "outputs": [],
   "source": [
    "#new column where 1 = favorable DtoI ratio and 0 = unfavorable DtoI ratio on the basis of favorable = <=43%\n",
    "def map_debt_to_income(value):\n",
    "    if value in ['30%-<36%', '40', '37', '20%-<30%', '36', '38', '39', '<20%', '42', '41', '43']:\n",
    "        return 1\n",
    "    elif value in ['>60%', '45', '48', '44', '47', '50%-60%', '49', '46']:\n",
    "        return 0\n",
    "    else:\n",
    "        return None "
   ]
  },
  {
   "cell_type": "code",
   "execution_count": 38,
   "id": "f0e6229e",
   "metadata": {},
   "outputs": [],
   "source": [
    "data['DI_indicator'] = data['debt_to_income_ratio'].apply(map_debt_to_income)"
   ]
  },
  {
   "cell_type": "code",
   "execution_count": 42,
   "id": "87c727db",
   "metadata": {},
   "outputs": [
    {
     "data": {
      "text/plain": [
       "<seaborn.axisgrid.PairGrid at 0x11e376560>"
      ]
     },
     "execution_count": 42,
     "metadata": {},
     "output_type": "execute_result"
    },
    {
     "data": {
      "image/png": "[encoded data removed]",
      "text/plain": [
       "<Figure size 594.236x500 with 6 Axes>"
      ]
     },
     "metadata": {},
     "output_type": "display_data"
    }
   ],
   "source": [
    "sns.pairplot(data, vars = [\"income\",'combined_loan_to_value_ratio'], hue = \"DI_indicator\", diag_kind = \"hist\", \n",
    "             diag_kws = {'alpha':0.55, 'bins':10})"
   ]
  },
  {
   "cell_type": "code",
   "execution_count": null,
   "id": "91ea0f05",
   "metadata": {},
   "outputs": [],
   "source": []
  }
 ],
 "metadata": {
  "kernelspec": {
   "display_name": "Python 3 (ipykernel)",
   "language": "python",
   "name": "python3"
  },
  "language_info": {
   "codemirror_mode": {
    "name": "ipython",
    "version": 3
   },
   "file_extension": ".py",
   "mimetype": "text/x-python",
   "name": "python",
   "nbconvert_exporter": "python",
   "pygments_lexer": "ipython3",
   "version": "3.10.6"
  }
 },
 "nbformat": 4,
 "nbformat_minor": 5
}
